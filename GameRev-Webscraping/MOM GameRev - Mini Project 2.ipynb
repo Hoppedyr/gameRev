{
 "cells": [
  {
   "cell_type": "code",
   "execution_count": 228,
   "metadata": {},
   "outputs": [],
   "source": [
    "from selenium import webdriver\n",
    "from selenium.webdriver.support.ui import Select\n",
    "import bs4\n",
    "from time import sleep\n",
    "import re\n",
    "import operator\n",
    "from selenium.webdriver.common.keys import Keys\n",
    "\n",
    "from webdriver_manager.chrome import ChromeDriverManager\n",
    "\n",
    "import pika\n",
    "import sys\n",
    "\n",
    "import requests\n",
    "import bs4\n",
    "import json\n",
    "import datetime"
   ]
  },
  {
   "cell_type": "code",
   "execution_count": 4,
   "metadata": {},
   "outputs": [],
   "source": [
    "# %pip install selenium\n",
    "# %pip install webdriver_manager\n",
    "# %pip install pika"
   ]
  },
  {
   "cell_type": "code",
   "execution_count": 5,
   "metadata": {},
   "outputs": [],
   "source": [
    "URL = 'https://www.steamspy.com/search.php'"
   ]
  },
  {
   "cell_type": "code",
   "execution_count": 213,
   "metadata": {
    "scrolled": false
   },
   "outputs": [
    {
     "name": "stderr",
     "output_type": "stream",
     "text": [
      "[WDM] - Current google-chrome version is 87.0.4280\n",
      "[WDM] - Get LATEST driver version for 87.0.4280\n"
     ]
    },
    {
     "name": "stdout",
     "output_type": "stream",
     "text": [
      " \n"
     ]
    },
    {
     "name": "stderr",
     "output_type": "stream",
     "text": [
      "[WDM] - Driver [C:\\Users\\Andreas Heick Laptop\\.wdm\\drivers\\chromedriver\\win32\\87.0.4280.88\\chromedriver.exe] found in cache\n"
     ]
    },
    {
     "name": "stdout",
     "output_type": "stream",
     "text": [
      "[{\"Price\": \"$29.99\", \"Owners\": \"20,000,000 .. 50,000,000\", \"Game\": \"Grand Theft Auto V\"}, {\"Price\": \"$39.99\", \"Owners\": \"10,000,000 .. 20,000,000\", \"Game\": \"The Witcher 3: Wild Hunt\"}, {\"Price\": \"$4.99\", \"Game\": \"Tomb Raider (2013)\"}, {\"Price\": \"$59.99\", \"Owners\": \"100,000 .. 200,000\", \"Game\": \"The Elder Scrolls V: Skyrim\"}, {\"Price\": \"$9.99\", \"Owners\": \"5,000,000 .. 10,000,000\", \"Game\": \"Left 4 Dead 2\"}, {\"Price\": \"$49.99\", \"Game\": \"Borderlands 2\"}, {\"Price\": \"$59.99\", \"Owners\": \"200,000 .. 500,000\", \"Game\": \"Fallout 4\"}, {\"Price\": \"$9.99\", \"Owners\": \"10,000,000 .. 20,000,000\", \"Game\": \"PAYDAY 2\"}, {\"Price\": \"$19.99\", \"Owners\": \"2,000,000 .. 5,000,000\", \"Game\": \"Grand Theft Auto IV\"}, {\"Price\": \"$4.99\", \"Game\": \"DOOM (2016)\"}, {\"Price\": \"$19.99\", \"Game\": \"BioShock\"}, {\"Price\": \"$59.99\", \"Owners\": \"2,000,000 .. 5,000,000\", \"Game\": \"Red Dead Redemption 2\"}, {\"Price\": \"$6.99\", \"Game\": \"Limbo\"}, {\"Price\": \"$31.96\", \"Game\": \"Life is Strange\"}, {\"Price\": \"$29.99\", \"Owners\": \"2,000,000 .. 5,000,000\", \"Game\": \"BioShock Infinite\"}]\n"
     ]
    }
   ],
   "source": [
    "browser = webdriver.Chrome(ChromeDriverManager().install())\n",
    "\n",
    "games = ['Grand Theft Auto V', 'Portal 2', 'The Witcher 3: Wild Hunt', 'Tomb Raider (2013)', 'The Elder Scrolls V: Skyrim',\n",
    "         'Left 4 Dead 2', 'Borderlands 2', 'Fallout 4', 'PAYDAY 2', 'Grand Theft Auto IV', 'DOOM (2016)','BioShock',\n",
    "         'Half-Life 2', 'Red Dead Redemption 2', 'Limbo','Counter-Strike: Global Offensive', 'Life is Strange',\n",
    "         'Team Fortress 2', 'BioShock Infinite']\n",
    "\n",
    "# games = ['Grand Theft Auto V', 'Portal-2']\n",
    "# games = ['Portal-2']\n",
    "\n",
    "gameInfos = []\n",
    "\n",
    "for game in games:\n",
    "    browser.get(URL)\n",
    "#     browser.implicitly_wait(1)\n",
    "    search_field = browser.find_element_by_class_name('form-control')\n",
    "    search_field.send_keys(game)\n",
    "    search_field.submit()\n",
    "    getInfo = browser.find_element_by_xpath('/html/body/div[3]/div[2]/div[1]/div[2]/div[1]/div[1]/div/p').text\n",
    "    \n",
    "    if getInfo.find(\"Price:\") != -1:\n",
    "        cleanData = getInfo[getInfo.find(\"Price:\"):].split('\\n')\n",
    "        del cleanData[1]\n",
    "        wat700 = \"\".join(cleanData).replace(\"Owners\", \";Owners\").replace(': ', \"=\")\n",
    "        dictionary = dict(subString.split('=') for subString in wat700.split(\";\")) \n",
    "        \n",
    "        dictionary[\"Game\"] = game\n",
    "        gameInfos.append(dictionary)\n",
    "\n",
    "browser.close()\n",
    "jsonData = json.dumps(gameInfos)\n",
    "print(jsonData)\n"
   ]
  },
  {
   "cell_type": "code",
   "execution_count": 238,
   "metadata": {},
   "outputs": [
    {
     "name": "stdout",
     "output_type": "stream",
     "text": [
      " [x] Sent '[{\"Price\": \"$29.99\", \"Owners\": \"20,000,000 .. 50,000,000\", \"Game\": \"Grand Theft Auto V\"}, {\"Price\": \"$39.99\", \"Owners\": \"10,000,000 .. 20,000,000\", \"Game\": \"The Witcher 3: Wild Hunt\"}, {\"Price\": \"$4.99\", \"Game\": \"Tomb Raider (2013)\"}, {\"Price\": \"$59.99\", \"Owners\": \"100,000 .. 200,000\", \"Game\": \"The Elder Scrolls V: Skyrim\"}, {\"Price\": \"$9.99\", \"Owners\": \"5,000,000 .. 10,000,000\", \"Game\": \"Left 4 Dead 2\"}, {\"Price\": \"$49.99\", \"Game\": \"Borderlands 2\"}, {\"Price\": \"$59.99\", \"Owners\": \"200,000 .. 500,000\", \"Game\": \"Fallout 4\"}, {\"Price\": \"$9.99\", \"Owners\": \"10,000,000 .. 20,000,000\", \"Game\": \"PAYDAY 2\"}, {\"Price\": \"$19.99\", \"Owners\": \"2,000,000 .. 5,000,000\", \"Game\": \"Grand Theft Auto IV\"}, {\"Price\": \"$4.99\", \"Game\": \"DOOM (2016)\"}, {\"Price\": \"$19.99\", \"Game\": \"BioShock\"}, {\"Price\": \"$59.99\", \"Owners\": \"2,000,000 .. 5,000,000\", \"Game\": \"Red Dead Redemption 2\"}, {\"Price\": \"$6.99\", \"Game\": \"Limbo\"}, {\"Price\": \"$31.96\", \"Game\": \"Life is Strange\"}, {\"Price\": \"$29.99\", \"Owners\": \"2,000,000 .. 5,000,000\", \"Game\": \"BioShock Infinite\"}]'\n",
      "Webscraper Cron job has run at 2020-12-09 16:46:20.899175\n"
     ]
    }
   ],
   "source": [
    "connection = pika.BlockingConnection(\n",
    "    pika.ConnectionParameters(host='localhost'))\n",
    "channel = connection.channel()\n",
    "\n",
    "channel.exchange_declare(exchange='gamerevWebscraper', exchange_type='fanout')\n",
    "\n",
    "channel.queue_declare(queue='webscrapeData')\n",
    "channel.queue_declare(queue='webscrapeData2')\n",
    "\n",
    "channel.queue_bind(exchange='gamerevWebscraper', queue=\"webscrapeData\")\n",
    "channel.queue_bind(exchange='gamerevWebscraper', queue=\"webscrapeData2\")\n",
    "\n",
    "channel.basic_publish(exchange='gamerevWebscraper', routing_key='', body=jsonData)\n",
    "print(\" [x] Sent %r\" % jsonData)\n",
    "connection.close()\n",
    "\n",
    "print(\"Webscraper Cron job has run at %s\" % datetime.datetime.now())"
   ]
  },
  {
   "cell_type": "code",
   "execution_count": null,
   "metadata": {},
   "outputs": [],
   "source": []
  }
 ],
 "metadata": {
  "kernelspec": {
   "display_name": "Python 3",
   "language": "python",
   "name": "python3"
  },
  "language_info": {
   "codemirror_mode": {
    "name": "ipython",
    "version": 3
   },
   "file_extension": ".py",
   "mimetype": "text/x-python",
   "name": "python",
   "nbconvert_exporter": "python",
   "pygments_lexer": "ipython3",
   "version": "3.7.9"
  }
 },
 "nbformat": 4,
 "nbformat_minor": 4
}
