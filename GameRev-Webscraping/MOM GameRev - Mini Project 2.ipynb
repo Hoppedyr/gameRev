{
 "cells": [
  {
   "cell_type": "code",
   "execution_count": 9,
   "metadata": {},
   "outputs": [],
   "source": [
    "from selenium import webdriver\n",
    "from selenium.webdriver.support.ui import Select\n",
    "import bs4\n",
    "from time import sleep\n",
    "import re\n",
    "import operator\n",
    "from selenium.webdriver.common.keys import Keys\n",
    "\n",
    "from webdriver_manager.chrome import ChromeDriverManager\n",
    "\n",
    "import pika\n",
    "import sys\n",
    "\n",
    "import requests\n",
    "import bs4\n",
    "import json"
   ]
  },
  {
   "cell_type": "code",
   "execution_count": 10,
   "metadata": {},
   "outputs": [],
   "source": [
    "# %pip install selenium\n",
    "# %pip install webdriver_manager\n",
    "# %pip install pika"
   ]
  },
  {
   "cell_type": "code",
   "execution_count": 11,
   "metadata": {},
   "outputs": [],
   "source": [
    "URL = 'https://www.steamspy.com/search.php'"
   ]
  },
  {
   "cell_type": "code",
   "execution_count": 12,
   "metadata": {
    "scrolled": true
   },
   "outputs": [
    {
     "name": "stderr",
     "output_type": "stream",
     "text": [
      "[WDM] - Current google-chrome version is 86.0.4240\n",
      "[WDM] - Get LATEST driver version for 86.0.4240\n"
     ]
    },
    {
     "name": "stdout",
     "output_type": "stream",
     "text": [
      " \n"
     ]
    },
    {
     "name": "stderr",
     "output_type": "stream",
     "text": [
      "[WDM] - Get LATEST driver version for 86.0.4240\n",
      "[WDM] - Trying to download new driver from http://chromedriver.storage.googleapis.com/86.0.4240.22/chromedriver_win32.zip\n",
      "[WDM] - Driver has been saved in cache [C:\\Users\\Andreas Heick Laptop\\.wdm\\drivers\\chromedriver\\win32\\86.0.4240.22]\n"
     ]
    },
    {
     "name": "stdout",
     "output_type": "stream",
     "text": [
      "[\n",
      "  [\n",
      "    \"Price: $14.99 50%\",\n",
      "    \"Owners: 20,000,000 .. 50,000,000\",\n",
      "    \"Grand Theft Auto V\"\n",
      "  ],\n",
      "  [\n",
      "    \"Price: $11.99 70%\",\n",
      "    \"Owners: 10,000,000 .. 20,000,000\",\n",
      "    \"The Witcher 3: Wild Hunt\"\n",
      "  ],\n",
      "  [\n",
      "    \"Price: $4.99\",\n",
      "    \"Tomb Raider (2013)\"\n",
      "  ],\n",
      "  [\n",
      "    \"Price: $59.99\",\n",
      "    \"Owners: 200,000 .. 500,000\",\n",
      "    \"The Elder Scrolls V: Skyrim\"\n",
      "  ],\n",
      "  [\n",
      "    \"Price: $1.99 80%\",\n",
      "    \"Owners: 20,000,000 .. 50,000,000\",\n",
      "    \"Left 4 Dead 2\"\n",
      "  ],\n",
      "  [\n",
      "    \"Price: $49.99\",\n",
      "    \"Borderlands 2\"\n",
      "  ],\n",
      "  [\n",
      "    \"Price: $59.99\",\n",
      "    \"Owners: 200,000 .. 500,000\",\n",
      "    \"Fallout 4\"\n",
      "  ],\n",
      "  [\n",
      "    \"Price: $9.99\",\n",
      "    \"Owners: 10,000,000 .. 20,000,000\",\n",
      "    \"PAYDAY 2\"\n",
      "  ],\n",
      "  [\n",
      "    \"Price: $19.99\",\n",
      "    \"Owners: 2,000,000 .. 5,000,000\",\n",
      "    \"Grand Theft Auto IV\"\n",
      "  ],\n",
      "  [\n",
      "    \"Price: $4.99\",\n",
      "    \"DOOM (2016)\"\n",
      "  ],\n",
      "  [\n",
      "    \"Price: $19.99\",\n",
      "    \"BioShock\"\n",
      "  ],\n",
      "  [\n",
      "    \"Price: $59.99\",\n",
      "    \"Owners: 2,000,000 .. 5,000,000\",\n",
      "    \"Red Dead Redemption 2\"\n",
      "  ],\n",
      "  [\n",
      "    \"Price: $6.99\",\n",
      "    \"Limbo\"\n",
      "  ],\n",
      "  [\n",
      "    \"Price: $31.96\",\n",
      "    \"Life is Strange\"\n",
      "  ],\n",
      "  [\n",
      "    \"Price: $29.99\",\n",
      "    \"Owners: 2,000,000 .. 5,000,000\",\n",
      "    \"BioShock Infinite\"\n",
      "  ]\n",
      "]\n"
     ]
    }
   ],
   "source": [
    "browser = webdriver.Chrome(ChromeDriverManager().install())\n",
    "\n",
    "games = ['Grand Theft Auto V', 'Portal 2', 'The Witcher 3: Wild Hunt', 'Tomb Raider (2013)', 'The Elder Scrolls V: Skyrim',\n",
    "         'Left 4 Dead 2', 'Borderlands 2', 'Fallout 4', 'PAYDAY 2', 'Grand Theft Auto IV', 'DOOM (2016)','BioShock',\n",
    "         'Half-Life 2', 'Red Dead Redemption 2', 'Limbo','Counter-Strike: Global Offensive', 'Life is Strange',\n",
    "         'Team Fortress 2', 'BioShock Infinite']\n",
    "\n",
    "# games = ['Grand Theft Auto V', 'Portal-2']\n",
    "\n",
    "gameInfos = []\n",
    "\n",
    "for game in games:\n",
    "    browser.get(URL)\n",
    "#     browser.implicitly_wait(1)\n",
    "    search_field = browser.find_element_by_class_name('form-control')\n",
    "    search_field.send_keys(game)\n",
    "    search_field.submit()\n",
    "    getInfo = browser.find_element_by_xpath('/html/body/div[3]/div[2]/div[1]/div[2]/div[1]/div[1]/div/p').text\n",
    "    \n",
    "    if getInfo.find(\"Price:\") != -1:\n",
    "        cleanData = getInfo[getInfo.find(\"Price:\"):].split('\\n')\n",
    "        del cleanData[1]\n",
    "        cleanData.append(game)\n",
    "        gameInfos.append(cleanData)\n",
    "\n",
    "browser.close()\n",
    "print(json.dumps(gameInfos, indent=2))\n",
    "jsonData = json.dumps(gameInfos, indent=2)\n",
    "\n"
   ]
  },
  {
   "cell_type": "code",
   "execution_count": 34,
   "metadata": {},
   "outputs": [
    {
     "name": "stdout",
     "output_type": "stream",
     "text": [
      " [x] Sent '[\\n  [\\n    \"Price: $14.99 50%\",\\n    \"Owners: 20,000,000 .. 50,000,000\",\\n    \"Grand Theft Auto V\"\\n  ],\\n  [\\n    \"Price: $11.99 70%\",\\n    \"Owners: 10,000,000 .. 20,000,000\",\\n    \"The Witcher 3: Wild Hunt\"\\n  ],\\n  [\\n    \"Price: $4.99\",\\n    \"Tomb Raider (2013)\"\\n  ],\\n  [\\n    \"Price: $59.99\",\\n    \"Owners: 200,000 .. 500,000\",\\n    \"The Elder Scrolls V: Skyrim\"\\n  ],\\n  [\\n    \"Price: $1.99 80%\",\\n    \"Owners: 20,000,000 .. 50,000,000\",\\n    \"Left 4 Dead 2\"\\n  ],\\n  [\\n    \"Price: $49.99\",\\n    \"Borderlands 2\"\\n  ],\\n  [\\n    \"Price: $59.99\",\\n    \"Owners: 200,000 .. 500,000\",\\n    \"Fallout 4\"\\n  ],\\n  [\\n    \"Price: $9.99\",\\n    \"Owners: 10,000,000 .. 20,000,000\",\\n    \"PAYDAY 2\"\\n  ],\\n  [\\n    \"Price: $19.99\",\\n    \"Owners: 2,000,000 .. 5,000,000\",\\n    \"Grand Theft Auto IV\"\\n  ],\\n  [\\n    \"Price: $4.99\",\\n    \"DOOM (2016)\"\\n  ],\\n  [\\n    \"Price: $19.99\",\\n    \"BioShock\"\\n  ],\\n  [\\n    \"Price: $59.99\",\\n    \"Owners: 2,000,000 .. 5,000,000\",\\n    \"Red Dead Redemption 2\"\\n  ],\\n  [\\n    \"Price: $6.99\",\\n    \"Limbo\"\\n  ],\\n  [\\n    \"Price: $31.96\",\\n    \"Life is Strange\"\\n  ],\\n  [\\n    \"Price: $29.99\",\\n    \"Owners: 2,000,000 .. 5,000,000\",\\n    \"BioShock Infinite\"\\n  ]\\n]'\n"
     ]
    }
   ],
   "source": [
    "connection = pika.BlockingConnection(\n",
    "    pika.ConnectionParameters(host='localhost'))\n",
    "channel = connection.channel()\n",
    "\n",
    "channel.exchange_declare(exchange='webscrapeData', exchange_type='fanout')\n",
    "\n",
    "channel.queue_declare(queue=\"gameRevWebscraper\")\n",
    "\n",
    "channel.basic_publish(exchange='webscrapeData', routing_key='', body=jsonData)\n",
    "print(\" [x] Sent %r\" % jsonData)\n",
    "connection.close()"
   ]
  },
  {
   "cell_type": "code",
   "execution_count": null,
   "metadata": {},
   "outputs": [],
   "source": []
  }
 ],
 "metadata": {
  "kernelspec": {
   "display_name": "Python 3",
   "language": "python",
   "name": "python3"
  },
  "language_info": {
   "codemirror_mode": {
    "name": "ipython",
    "version": 3
   },
   "file_extension": ".py",
   "mimetype": "text/x-python",
   "name": "python",
   "nbconvert_exporter": "python",
   "pygments_lexer": "ipython3",
   "version": "3.7.9"
  }
 },
 "nbformat": 4,
 "nbformat_minor": 4
}
