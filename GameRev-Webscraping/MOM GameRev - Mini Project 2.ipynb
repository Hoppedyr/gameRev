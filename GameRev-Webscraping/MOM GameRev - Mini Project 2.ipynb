{
 "cells": [
  {
   "cell_type": "code",
   "execution_count": 1,
   "metadata": {},
   "outputs": [],
   "source": [
    "from selenium import webdriver\n",
    "from selenium.webdriver.support.ui import Select\n",
    "import bs4\n",
    "from time import sleep\n",
    "import re\n",
    "import operator\n",
    "from selenium.webdriver.common.keys import Keys\n",
    "\n",
    "from webdriver_manager.chrome import ChromeDriverManager\n",
    "\n",
    "import pika\n",
    "import sys\n",
    "\n",
    "import requests\n",
    "import bs4\n",
    "import json\n",
    "import datetime"
   ]
  },
  {
   "cell_type": "code",
   "execution_count": 2,
   "metadata": {},
   "outputs": [],
   "source": [
    "# %pip install selenium\n",
    "# %pip install webdriver_manager\n",
    "# %pip install pika"
   ]
  },
  {
   "cell_type": "code",
   "execution_count": 3,
   "metadata": {},
   "outputs": [],
   "source": [
    "URL = 'https://www.steamspy.com/search.php'"
   ]
  },
  {
   "cell_type": "code",
   "execution_count": 4,
   "metadata": {
    "scrolled": false
   },
   "outputs": [
    {
     "name": "stderr",
     "output_type": "stream",
     "text": [
      "[WDM] - Current google-chrome version is 87.0.4280\n",
      "[WDM] - Get LATEST driver version for 87.0.4280\n",
      "[WDM] - Driver [C:\\Users\\rasmu\\.wdm\\drivers\\chromedriver\\win32\\87.0.4280.88\\chromedriver.exe] found in cache\n"
     ]
    },
    {
     "name": "stdout",
     "output_type": "stream",
     "text": [
      " \n",
      "[{\"Price\": \"$29.99\", \"Owners\": \"20,000,000 .. 50,000,000\", \"Game\": \"Grand Theft Auto V\"}, {\"Price\": \"$11.99 70%\", \"Owners\": \"10,000,000 .. 20,000,000\", \"Game\": \"The Witcher 3: Wild Hunt\"}, {\"Price\": \"$4.99\", \"Game\": \"Tomb Raider (2013)\"}, {\"Price\": \"$59.99\", \"Owners\": \"100,000 .. 200,000\", \"Game\": \"The Elder Scrolls V: Skyrim\"}, {\"Price\": \"$9.99\", \"Owners\": \"5,000,000 .. 10,000,000\", \"Game\": \"Left 4 Dead 2\"}, {\"Price\": \"$49.99\", \"Game\": \"Borderlands 2\"}, {\"Price\": \"$59.99\", \"Owners\": \"200,000 .. 500,000\", \"Game\": \"Fallout 4\"}, {\"Price\": \"$9.99\", \"Owners\": \"10,000,000 .. 20,000,000\", \"Game\": \"PAYDAY 2\"}, {\"Price\": \"$19.99\", \"Owners\": \"2,000,000 .. 5,000,000\", \"Game\": \"Grand Theft Auto IV\"}, {\"Price\": \"$4.99\", \"Game\": \"DOOM (2016)\"}, {\"Price\": \"$19.99\", \"Game\": \"BioShock\"}, {\"Price\": \"$40.19 33%\", \"Owners\": \"2,000,000 .. 5,000,000\", \"Game\": \"Red Dead Redemption 2\"}, {\"Price\": \"$6.99\", \"Game\": \"Limbo\"}, {\"Price\": \"$31.96\", \"Game\": \"Life is Strange\"}, {\"Price\": \"$29.99\", \"Owners\": \"2,000,000 .. 5,000,000\", \"Game\": \"BioShock Infinite\"}]\n"
     ]
    }
   ],
   "source": [
    "browser = webdriver.Chrome(ChromeDriverManager().install())\n",
    "\n",
    "games = ['Grand Theft Auto V', 'Portal 2', 'The Witcher 3: Wild Hunt', 'Tomb Raider (2013)', 'The Elder Scrolls V: Skyrim',\n",
    "         'Left 4 Dead 2', 'Borderlands 2', 'Fallout 4', 'PAYDAY 2', 'Grand Theft Auto IV', 'DOOM (2016)','BioShock',\n",
    "         'Half-Life 2', 'Red Dead Redemption 2', 'Limbo','Counter-Strike: Global Offensive', 'Life is Strange',\n",
    "         'Team Fortress 2', 'BioShock Infinite']\n",
    "\n",
    "# games = ['Grand Theft Auto V', 'Portal-2']\n",
    "# games = ['Portal-2']\n",
    "\n",
    "gameInfos = []\n",
    "\n",
    "for game in games:\n",
    "    browser.get(URL)\n",
    "#     browser.implicitly_wait(1)\n",
    "    search_field = browser.find_element_by_xpath('/html/body/div[3]/div[2]/div[1]/div[2]/div/div/div/div/div/form/div/input')\n",
    "    search_field.send_keys(game)\n",
    "    search_field.submit()\n",
    "    getInfo = browser.find_element_by_xpath('/html/body/div[3]/div[2]/div[1]/div[2]/div[1]/div[1]/div/p').text\n",
    "    \n",
    "    if getInfo.find(\"Price:\") != -1:\n",
    "        cleanData = getInfo[getInfo.find(\"Price:\"):].split('\\n')\n",
    "        del cleanData[1]\n",
    "        wat700 = \"\".join(cleanData).replace(\"Owners\", \";Owners\").replace(': ', \"=\")\n",
    "        dictionary = dict(subString.split('=') for subString in wat700.split(\";\")) \n",
    "        \n",
    "        dictionary[\"Game\"] = game\n",
    "        gameInfos.append(dictionary)\n",
    "\n",
    "browser.close()\n",
    "jsonData = json.dumps(gameInfos)\n",
    "print(jsonData)\n"
   ]
  },
  {
   "cell_type": "code",
   "execution_count": 5,
   "metadata": {},
   "outputs": [
    {
     "ename": "AMQPConnectionError",
     "evalue": "",
     "output_type": "error",
     "traceback": [
      "\u001b[1;31m---------------------------------------------------------------------------\u001b[0m",
      "\u001b[1;31mAMQPConnectionError\u001b[0m                       Traceback (most recent call last)",
      "\u001b[1;32m<ipython-input-5-68f755fa6074>\u001b[0m in \u001b[0;36m<module>\u001b[1;34m\u001b[0m\n\u001b[0;32m      1\u001b[0m connection = pika.BlockingConnection(\n\u001b[1;32m----> 2\u001b[1;33m     pika.ConnectionParameters(host='localhost'))\n\u001b[0m\u001b[0;32m      3\u001b[0m \u001b[0mchannel\u001b[0m \u001b[1;33m=\u001b[0m \u001b[0mconnection\u001b[0m\u001b[1;33m.\u001b[0m\u001b[0mchannel\u001b[0m\u001b[1;33m(\u001b[0m\u001b[1;33m)\u001b[0m\u001b[1;33m\u001b[0m\u001b[1;33m\u001b[0m\u001b[0m\n\u001b[0;32m      4\u001b[0m \u001b[1;33m\u001b[0m\u001b[0m\n\u001b[0;32m      5\u001b[0m \u001b[0mchannel\u001b[0m\u001b[1;33m.\u001b[0m\u001b[0mexchange_declare\u001b[0m\u001b[1;33m(\u001b[0m\u001b[0mexchange\u001b[0m\u001b[1;33m=\u001b[0m\u001b[1;34m'gamerevWebscraper'\u001b[0m\u001b[1;33m,\u001b[0m \u001b[0mexchange_type\u001b[0m\u001b[1;33m=\u001b[0m\u001b[1;34m'fanout'\u001b[0m\u001b[1;33m)\u001b[0m\u001b[1;33m\u001b[0m\u001b[1;33m\u001b[0m\u001b[0m\n",
      "\u001b[1;32m~\\Anaconda3\\lib\\site-packages\\pika\\adapters\\blocking_connection.py\u001b[0m in \u001b[0;36m__init__\u001b[1;34m(self, parameters, _impl_class)\u001b[0m\n\u001b[0;32m    357\u001b[0m         \u001b[1;31m# Perform connection workflow\u001b[0m\u001b[1;33m\u001b[0m\u001b[1;33m\u001b[0m\u001b[1;33m\u001b[0m\u001b[0m\n\u001b[0;32m    358\u001b[0m         \u001b[0mself\u001b[0m\u001b[1;33m.\u001b[0m\u001b[0m_impl\u001b[0m \u001b[1;33m=\u001b[0m \u001b[1;32mNone\u001b[0m  \u001b[1;31m# so that attribute is created in case below raises\u001b[0m\u001b[1;33m\u001b[0m\u001b[1;33m\u001b[0m\u001b[0m\n\u001b[1;32m--> 359\u001b[1;33m         \u001b[0mself\u001b[0m\u001b[1;33m.\u001b[0m\u001b[0m_impl\u001b[0m \u001b[1;33m=\u001b[0m \u001b[0mself\u001b[0m\u001b[1;33m.\u001b[0m\u001b[0m_create_connection\u001b[0m\u001b[1;33m(\u001b[0m\u001b[0mparameters\u001b[0m\u001b[1;33m,\u001b[0m \u001b[0m_impl_class\u001b[0m\u001b[1;33m)\u001b[0m\u001b[1;33m\u001b[0m\u001b[1;33m\u001b[0m\u001b[0m\n\u001b[0m\u001b[0;32m    360\u001b[0m         \u001b[0mself\u001b[0m\u001b[1;33m.\u001b[0m\u001b[0m_impl\u001b[0m\u001b[1;33m.\u001b[0m\u001b[0madd_on_close_callback\u001b[0m\u001b[1;33m(\u001b[0m\u001b[0mself\u001b[0m\u001b[1;33m.\u001b[0m\u001b[0m_closed_result\u001b[0m\u001b[1;33m.\u001b[0m\u001b[0mset_value_once\u001b[0m\u001b[1;33m)\u001b[0m\u001b[1;33m\u001b[0m\u001b[1;33m\u001b[0m\u001b[0m\n\u001b[0;32m    361\u001b[0m \u001b[1;33m\u001b[0m\u001b[0m\n",
      "\u001b[1;32m~\\Anaconda3\\lib\\site-packages\\pika\\adapters\\blocking_connection.py\u001b[0m in \u001b[0;36m_create_connection\u001b[1;34m(self, configs, impl_class)\u001b[0m\n\u001b[0;32m    448\u001b[0m                 \u001b[0merror\u001b[0m \u001b[1;33m=\u001b[0m \u001b[0mon_cw_done_result\u001b[0m\u001b[1;33m.\u001b[0m\u001b[0mvalue\u001b[0m\u001b[1;33m.\u001b[0m\u001b[0mresult\u001b[0m\u001b[1;33m\u001b[0m\u001b[1;33m\u001b[0m\u001b[0m\n\u001b[0;32m    449\u001b[0m                 \u001b[0mLOGGER\u001b[0m\u001b[1;33m.\u001b[0m\u001b[0merror\u001b[0m\u001b[1;33m(\u001b[0m\u001b[1;34m'Connection workflow failed: %r'\u001b[0m\u001b[1;33m,\u001b[0m \u001b[0merror\u001b[0m\u001b[1;33m)\u001b[0m\u001b[1;33m\u001b[0m\u001b[1;33m\u001b[0m\u001b[0m\n\u001b[1;32m--> 450\u001b[1;33m                 \u001b[1;32mraise\u001b[0m \u001b[0mself\u001b[0m\u001b[1;33m.\u001b[0m\u001b[0m_reap_last_connection_workflow_error\u001b[0m\u001b[1;33m(\u001b[0m\u001b[0merror\u001b[0m\u001b[1;33m)\u001b[0m\u001b[1;33m\u001b[0m\u001b[1;33m\u001b[0m\u001b[0m\n\u001b[0m\u001b[0;32m    451\u001b[0m             \u001b[1;32melse\u001b[0m\u001b[1;33m:\u001b[0m\u001b[1;33m\u001b[0m\u001b[1;33m\u001b[0m\u001b[0m\n\u001b[0;32m    452\u001b[0m                 LOGGER.info('Connection workflow succeeded: %r',\n",
      "\u001b[1;31mAMQPConnectionError\u001b[0m: "
     ]
    }
   ],
   "source": [
    "connection = pika.BlockingConnection(\n",
    "    pika.ConnectionParameters(host='localhost'))\n",
    "channel = connection.channel()\n",
    "\n",
    "channel.exchange_declare(exchange='gamerevWebscraper', exchange_type='fanout')\n",
    "\n",
    "channel.queue_declare(queue='webscrapeData')\n",
    "channel.queue_declare(queue='webscrapeData2')\n",
    "\n",
    "channel.queue_bind(exchange='gamerevWebscraper', queue=\"webscrapeData\")\n",
    "channel.queue_bind(exchange='gamerevWebscraper', queue=\"webscrapeData2\")\n",
    "\n",
    "channel.basic_publish(exchange='gamerevWebscraper', routing_key='', body=jsonData)\n",
    "print(\" [x] Sent %r\" % jsonData)\n",
    "connection.close()\n",
    "\n",
    "print(\"Webscraper Cron job has run at %s\" % datetime.datetime.now())"
   ]
  },
  {
   "cell_type": "code",
   "execution_count": null,
   "metadata": {},
   "outputs": [],
   "source": []
  }
 ],
 "metadata": {
  "kernelspec": {
   "display_name": "Python 3",
   "language": "python",
   "name": "python3"
  },
  "language_info": {
   "codemirror_mode": {
    "name": "ipython",
    "version": 3
   },
   "file_extension": ".py",
   "mimetype": "text/x-python",
   "name": "python",
   "nbconvert_exporter": "python",
   "pygments_lexer": "ipython3",
   "version": "3.7.1"
  }
 },
 "nbformat": 4,
 "nbformat_minor": 4
}
