{
 "cells": [
  {
   "cell_type": "code",
   "execution_count": null,
   "metadata": {},
   "outputs": [
    {
     "name": "stdout",
     "output_type": "stream",
     "text": [
      " [*] Waiting for logs. To exit press CTRL+C\n",
      " [x] b'[{\"Price\": \"$29.99\", \"Owners\": \"20,000,000 .. 50,000,000\", \"Game\": \"Grand Theft Auto V\"}, {\"Price\": \"$39.99\", \"Owners\": \"10,000,000 .. 20,000,000\", \"Game\": \"The Witcher 3: Wild Hunt\"}, {\"Price\": \"$4.99\", \"Game\": \"Tomb Raider (2013)\"}, {\"Price\": \"$59.99\", \"Owners\": \"100,000 .. 200,000\", \"Game\": \"The Elder Scrolls V: Skyrim\"}, {\"Price\": \"$9.99\", \"Owners\": \"5,000,000 .. 10,000,000\", \"Game\": \"Left 4 Dead 2\"}, {\"Price\": \"$49.99\", \"Game\": \"Borderlands 2\"}, {\"Price\": \"$59.99\", \"Owners\": \"200,000 .. 500,000\", \"Game\": \"Fallout 4\"}, {\"Price\": \"$9.99\", \"Owners\": \"10,000,000 .. 20,000,000\", \"Game\": \"PAYDAY 2\"}, {\"Price\": \"$19.99\", \"Owners\": \"2,000,000 .. 5,000,000\", \"Game\": \"Grand Theft Auto IV\"}, {\"Price\": \"$4.99\", \"Game\": \"DOOM (2016)\"}, {\"Price\": \"$19.99\", \"Game\": \"BioShock\"}, {\"Price\": \"$59.99\", \"Owners\": \"2,000,000 .. 5,000,000\", \"Game\": \"Red Dead Redemption 2\"}, {\"Price\": \"$6.99\", \"Game\": \"Limbo\"}, {\"Price\": \"$31.96\", \"Game\": \"Life is Strange\"}, {\"Price\": \"$29.99\", \"Owners\": \"2,000,000 .. 5,000,000\", \"Game\": \"BioShock Infinite\"}]'\n",
      " [x] b'teeest'\n",
      " [x] b'teeest'\n",
      " [x] b'[{\"Price\": \"$29.99\", \"Owners\": \"20,000,000 .. 50,000,000\", \"Game\": \"Grand Theft Auto V\"}, {\"Price\": \"$39.99\", \"Owners\": \"10,000,000 .. 20,000,000\", \"Game\": \"The Witcher 3: Wild Hunt\"}, {\"Price\": \"$4.99\", \"Game\": \"Tomb Raider (2013)\"}, {\"Price\": \"$59.99\", \"Owners\": \"100,000 .. 200,000\", \"Game\": \"The Elder Scrolls V: Skyrim\"}, {\"Price\": \"$9.99\", \"Owners\": \"5,000,000 .. 10,000,000\", \"Game\": \"Left 4 Dead 2\"}, {\"Price\": \"$49.99\", \"Game\": \"Borderlands 2\"}, {\"Price\": \"$59.99\", \"Owners\": \"200,000 .. 500,000\", \"Game\": \"Fallout 4\"}, {\"Price\": \"$9.99\", \"Owners\": \"10,000,000 .. 20,000,000\", \"Game\": \"PAYDAY 2\"}, {\"Price\": \"$19.99\", \"Owners\": \"2,000,000 .. 5,000,000\", \"Game\": \"Grand Theft Auto IV\"}, {\"Price\": \"$4.99\", \"Game\": \"DOOM (2016)\"}, {\"Price\": \"$19.99\", \"Game\": \"BioShock\"}, {\"Price\": \"$59.99\", \"Owners\": \"2,000,000 .. 5,000,000\", \"Game\": \"Red Dead Redemption 2\"}, {\"Price\": \"$6.99\", \"Game\": \"Limbo\"}, {\"Price\": \"$31.96\", \"Game\": \"Life is Strange\"}, {\"Price\": \"$29.99\", \"Owners\": \"2,000,000 .. 5,000,000\", \"Game\": \"BioShock Infinite\"}]'\n",
      " [x] b'[{\"Price\": \"$29.99\", \"Owners\": \"20,000,000 .. 50,000,000\", \"Game\": \"Grand Theft Auto V\"}, {\"Price\": \"$39.99\", \"Owners\": \"10,000,000 .. 20,000,000\", \"Game\": \"The Witcher 3: Wild Hunt\"}, {\"Price\": \"$4.99\", \"Game\": \"Tomb Raider (2013)\"}, {\"Price\": \"$59.99\", \"Owners\": \"100,000 .. 200,000\", \"Game\": \"The Elder Scrolls V: Skyrim\"}, {\"Price\": \"$9.99\", \"Owners\": \"5,000,000 .. 10,000,000\", \"Game\": \"Left 4 Dead 2\"}, {\"Price\": \"$49.99\", \"Game\": \"Borderlands 2\"}, {\"Price\": \"$59.99\", \"Owners\": \"200,000 .. 500,000\", \"Game\": \"Fallout 4\"}, {\"Price\": \"$9.99\", \"Owners\": \"10,000,000 .. 20,000,000\", \"Game\": \"PAYDAY 2\"}, {\"Price\": \"$19.99\", \"Owners\": \"2,000,000 .. 5,000,000\", \"Game\": \"Grand Theft Auto IV\"}, {\"Price\": \"$4.99\", \"Game\": \"DOOM (2016)\"}, {\"Price\": \"$19.99\", \"Game\": \"BioShock\"}, {\"Price\": \"$59.99\", \"Owners\": \"2,000,000 .. 5,000,000\", \"Game\": \"Red Dead Redemption 2\"}, {\"Price\": \"$6.99\", \"Game\": \"Limbo\"}, {\"Price\": \"$31.96\", \"Game\": \"Life is Strange\"}, {\"Price\": \"$29.99\", \"Owners\": \"2,000,000 .. 5,000,000\", \"Game\": \"BioShock Infinite\"}]'\n",
      " [x] b'[{\"Price\": \"$29.99\", \"Owners\": \"20,000,000 .. 50,000,000\", \"Game\": \"Grand Theft Auto V\"}, {\"Price\": \"$39.99\", \"Owners\": \"10,000,000 .. 20,000,000\", \"Game\": \"The Witcher 3: Wild Hunt\"}, {\"Price\": \"$4.99\", \"Game\": \"Tomb Raider (2013)\"}, {\"Price\": \"$59.99\", \"Owners\": \"100,000 .. 200,000\", \"Game\": \"The Elder Scrolls V: Skyrim\"}, {\"Price\": \"$9.99\", \"Owners\": \"5,000,000 .. 10,000,000\", \"Game\": \"Left 4 Dead 2\"}, {\"Price\": \"$49.99\", \"Game\": \"Borderlands 2\"}, {\"Price\": \"$59.99\", \"Owners\": \"200,000 .. 500,000\", \"Game\": \"Fallout 4\"}, {\"Price\": \"$9.99\", \"Owners\": \"10,000,000 .. 20,000,000\", \"Game\": \"PAYDAY 2\"}, {\"Price\": \"$19.99\", \"Owners\": \"2,000,000 .. 5,000,000\", \"Game\": \"Grand Theft Auto IV\"}, {\"Price\": \"$4.99\", \"Game\": \"DOOM (2016)\"}, {\"Price\": \"$19.99\", \"Game\": \"BioShock\"}, {\"Price\": \"$59.99\", \"Owners\": \"2,000,000 .. 5,000,000\", \"Game\": \"Red Dead Redemption 2\"}, {\"Price\": \"$6.99\", \"Game\": \"Limbo\"}, {\"Price\": \"$31.96\", \"Game\": \"Life is Strange\"}, {\"Price\": \"$29.99\", \"Owners\": \"2,000,000 .. 5,000,000\", \"Game\": \"BioShock Infinite\"}]'\n",
      " [x] b'[{\"Price\": \"$29.99\", \"Owners\": \"20,000,000 .. 50,000,000\", \"Game\": \"Grand Theft Auto V\"}, {\"Price\": \"$39.99\", \"Owners\": \"10,000,000 .. 20,000,000\", \"Game\": \"The Witcher 3: Wild Hunt\"}, {\"Price\": \"$4.99\", \"Game\": \"Tomb Raider (2013)\"}, {\"Price\": \"$59.99\", \"Owners\": \"100,000 .. 200,000\", \"Game\": \"The Elder Scrolls V: Skyrim\"}, {\"Price\": \"$9.99\", \"Owners\": \"5,000,000 .. 10,000,000\", \"Game\": \"Left 4 Dead 2\"}, {\"Price\": \"$49.99\", \"Game\": \"Borderlands 2\"}, {\"Price\": \"$59.99\", \"Owners\": \"200,000 .. 500,000\", \"Game\": \"Fallout 4\"}, {\"Price\": \"$9.99\", \"Owners\": \"10,000,000 .. 20,000,000\", \"Game\": \"PAYDAY 2\"}, {\"Price\": \"$19.99\", \"Owners\": \"2,000,000 .. 5,000,000\", \"Game\": \"Grand Theft Auto IV\"}, {\"Price\": \"$4.99\", \"Game\": \"DOOM (2016)\"}, {\"Price\": \"$19.99\", \"Game\": \"BioShock\"}, {\"Price\": \"$59.99\", \"Owners\": \"2,000,000 .. 5,000,000\", \"Game\": \"Red Dead Redemption 2\"}, {\"Price\": \"$6.99\", \"Game\": \"Limbo\"}, {\"Price\": \"$31.96\", \"Game\": \"Life is Strange\"}, {\"Price\": \"$29.99\", \"Owners\": \"2,000,000 .. 5,000,000\", \"Game\": \"BioShock Infinite\"}]'\n",
      " [x] b'[{\"Price\": \"$29.99\", \"Owners\": \"20,000,000 .. 50,000,000\", \"Game\": \"Grand Theft Auto V\"}, {\"Price\": \"$39.99\", \"Owners\": \"10,000,000 .. 20,000,000\", \"Game\": \"The Witcher 3: Wild Hunt\"}, {\"Price\": \"$4.99\", \"Game\": \"Tomb Raider (2013)\"}, {\"Price\": \"$59.99\", \"Owners\": \"100,000 .. 200,000\", \"Game\": \"The Elder Scrolls V: Skyrim\"}, {\"Price\": \"$9.99\", \"Owners\": \"5,000,000 .. 10,000,000\", \"Game\": \"Left 4 Dead 2\"}, {\"Price\": \"$49.99\", \"Game\": \"Borderlands 2\"}, {\"Price\": \"$59.99\", \"Owners\": \"200,000 .. 500,000\", \"Game\": \"Fallout 4\"}, {\"Price\": \"$9.99\", \"Owners\": \"10,000,000 .. 20,000,000\", \"Game\": \"PAYDAY 2\"}, {\"Price\": \"$19.99\", \"Owners\": \"2,000,000 .. 5,000,000\", \"Game\": \"Grand Theft Auto IV\"}, {\"Price\": \"$4.99\", \"Game\": \"DOOM (2016)\"}, {\"Price\": \"$19.99\", \"Game\": \"BioShock\"}, {\"Price\": \"$59.99\", \"Owners\": \"2,000,000 .. 5,000,000\", \"Game\": \"Red Dead Redemption 2\"}, {\"Price\": \"$6.99\", \"Game\": \"Limbo\"}, {\"Price\": \"$31.96\", \"Game\": \"Life is Strange\"}, {\"Price\": \"$29.99\", \"Owners\": \"2,000,000 .. 5,000,000\", \"Game\": \"BioShock Infinite\"}]'\n",
      " [x] b'[{\"Price\": \"$29.99\", \"Owners\": \"20,000,000 .. 50,000,000\", \"Game\": \"Grand Theft Auto V\"}, {\"Price\": \"$39.99\", \"Owners\": \"10,000,000 .. 20,000,000\", \"Game\": \"The Witcher 3: Wild Hunt\"}, {\"Price\": \"$4.99\", \"Game\": \"Tomb Raider (2013)\"}, {\"Price\": \"$59.99\", \"Owners\": \"100,000 .. 200,000\", \"Game\": \"The Elder Scrolls V: Skyrim\"}, {\"Price\": \"$9.99\", \"Owners\": \"5,000,000 .. 10,000,000\", \"Game\": \"Left 4 Dead 2\"}, {\"Price\": \"$49.99\", \"Game\": \"Borderlands 2\"}, {\"Price\": \"$59.99\", \"Owners\": \"200,000 .. 500,000\", \"Game\": \"Fallout 4\"}, {\"Price\": \"$9.99\", \"Owners\": \"10,000,000 .. 20,000,000\", \"Game\": \"PAYDAY 2\"}, {\"Price\": \"$19.99\", \"Owners\": \"2,000,000 .. 5,000,000\", \"Game\": \"Grand Theft Auto IV\"}, {\"Price\": \"$4.99\", \"Game\": \"DOOM (2016)\"}, {\"Price\": \"$19.99\", \"Game\": \"BioShock\"}, {\"Price\": \"$59.99\", \"Owners\": \"2,000,000 .. 5,000,000\", \"Game\": \"Red Dead Redemption 2\"}, {\"Price\": \"$6.99\", \"Game\": \"Limbo\"}, {\"Price\": \"$31.96\", \"Game\": \"Life is Strange\"}, {\"Price\": \"$29.99\", \"Owners\": \"2,000,000 .. 5,000,000\", \"Game\": \"BioShock Infinite\"}]'\n",
      " [x] b'[{\"Price\": \"$29.99\", \"Owners\": \"20,000,000 .. 50,000,000\", \"Game\": \"Grand Theft Auto V\"}, {\"Price\": \"$39.99\", \"Owners\": \"10,000,000 .. 20,000,000\", \"Game\": \"The Witcher 3: Wild Hunt\"}, {\"Price\": \"$4.99\", \"Game\": \"Tomb Raider (2013)\"}, {\"Price\": \"$59.99\", \"Owners\": \"100,000 .. 200,000\", \"Game\": \"The Elder Scrolls V: Skyrim\"}, {\"Price\": \"$9.99\", \"Owners\": \"5,000,000 .. 10,000,000\", \"Game\": \"Left 4 Dead 2\"}, {\"Price\": \"$49.99\", \"Game\": \"Borderlands 2\"}, {\"Price\": \"$59.99\", \"Owners\": \"200,000 .. 500,000\", \"Game\": \"Fallout 4\"}, {\"Price\": \"$9.99\", \"Owners\": \"10,000,000 .. 20,000,000\", \"Game\": \"PAYDAY 2\"}, {\"Price\": \"$19.99\", \"Owners\": \"2,000,000 .. 5,000,000\", \"Game\": \"Grand Theft Auto IV\"}, {\"Price\": \"$4.99\", \"Game\": \"DOOM (2016)\"}, {\"Price\": \"$19.99\", \"Game\": \"BioShock\"}, {\"Price\": \"$59.99\", \"Owners\": \"2,000,000 .. 5,000,000\", \"Game\": \"Red Dead Redemption 2\"}, {\"Price\": \"$6.99\", \"Game\": \"Limbo\"}, {\"Price\": \"$31.96\", \"Game\": \"Life is Strange\"}, {\"Price\": \"$29.99\", \"Owners\": \"2,000,000 .. 5,000,000\", \"Game\": \"BioShock Infinite\"}]'\n"
     ]
    },
    {
     "name": "stdout",
     "output_type": "stream",
     "text": [
      " [x] b'[{\"Price\": \"$29.99\", \"Owners\": \"20,000,000 .. 50,000,000\", \"Game\": \"Grand Theft Auto V\"}, {\"Price\": \"$39.99\", \"Owners\": \"10,000,000 .. 20,000,000\", \"Game\": \"The Witcher 3: Wild Hunt\"}, {\"Price\": \"$4.99\", \"Game\": \"Tomb Raider (2013)\"}, {\"Price\": \"$59.99\", \"Owners\": \"100,000 .. 200,000\", \"Game\": \"The Elder Scrolls V: Skyrim\"}, {\"Price\": \"$9.99\", \"Owners\": \"5,000,000 .. 10,000,000\", \"Game\": \"Left 4 Dead 2\"}, {\"Price\": \"$49.99\", \"Game\": \"Borderlands 2\"}, {\"Price\": \"$59.99\", \"Owners\": \"200,000 .. 500,000\", \"Game\": \"Fallout 4\"}, {\"Price\": \"$9.99\", \"Owners\": \"10,000,000 .. 20,000,000\", \"Game\": \"PAYDAY 2\"}, {\"Price\": \"$19.99\", \"Owners\": \"2,000,000 .. 5,000,000\", \"Game\": \"Grand Theft Auto IV\"}, {\"Price\": \"$4.99\", \"Game\": \"DOOM (2016)\"}, {\"Price\": \"$19.99\", \"Game\": \"BioShock\"}, {\"Price\": \"$59.99\", \"Owners\": \"2,000,000 .. 5,000,000\", \"Game\": \"Red Dead Redemption 2\"}, {\"Price\": \"$6.99\", \"Game\": \"Limbo\"}, {\"Price\": \"$31.96\", \"Game\": \"Life is Strange\"}, {\"Price\": \"$29.99\", \"Owners\": \"2,000,000 .. 5,000,000\", \"Game\": \"BioShock Infinite\"}]'\n"
     ]
    }
   ],
   "source": [
    "import pika\n",
    "\n",
    "connection = pika.BlockingConnection(\n",
    "    pika.ConnectionParameters(host='localhost'))\n",
    "channel = connection.channel()\n",
    "\n",
    "result = channel.queue_declare(queue='webscrapeData2')\n",
    "queue_name = result.method.queue\n",
    "\n",
    "print(' [*] Waiting for logs. To exit press CTRL+C')\n",
    "\n",
    "def callback(ch, method, properties, body):\n",
    "    print(\" [x] %r\" % body)\n",
    "\n",
    "channel.basic_consume(\n",
    "    queue=queue_name, on_message_callback=callback, auto_ack=True)\n",
    "\n",
    "channel.start_consuming()"
   ]
  },
  {
   "cell_type": "code",
   "execution_count": null,
   "metadata": {},
   "outputs": [],
   "source": []
  }
 ],
 "metadata": {
  "kernelspec": {
   "display_name": "Python 3",
   "language": "python",
   "name": "python3"
  },
  "language_info": {
   "codemirror_mode": {
    "name": "ipython",
    "version": 3
   },
   "file_extension": ".py",
   "mimetype": "text/x-python",
   "name": "python",
   "nbconvert_exporter": "python",
   "pygments_lexer": "ipython3",
   "version": "3.7.9"
  }
 },
 "nbformat": 4,
 "nbformat_minor": 4
}
