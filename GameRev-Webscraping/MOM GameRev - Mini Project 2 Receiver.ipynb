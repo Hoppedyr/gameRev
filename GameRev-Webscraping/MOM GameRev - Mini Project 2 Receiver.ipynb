{
 "cells": [
  {
   "cell_type": "code",
   "execution_count": null,
   "metadata": {},
   "outputs": [
    {
     "name": "stdout",
     "output_type": "stream",
     "text": [
      " [*] Waiting for logs. To exit press CTRL+C\n",
      " [x] b'[\\n  [\\n    \"Price: $14.99 50%\",\\n    \"Owners: 20,000,000 .. 50,000,000\",\\n    \"Grand Theft Auto V\"\\n  ],\\n  [\\n    \"Price: $11.99 70%\",\\n    \"Owners: 10,000,000 .. 20,000,000\",\\n    \"The Witcher 3: Wild Hunt\"\\n  ],\\n  [\\n    \"Price: $4.99\",\\n    \"Tomb Raider (2013)\"\\n  ],\\n  [\\n    \"Price: $59.99\",\\n    \"Owners: 200,000 .. 500,000\",\\n    \"The Elder Scrolls V: Skyrim\"\\n  ],\\n  [\\n    \"Price: $1.99 80%\",\\n    \"Owners: 20,000,000 .. 50,000,000\",\\n    \"Left 4 Dead 2\"\\n  ],\\n  [\\n    \"Price: $49.99\",\\n    \"Borderlands 2\"\\n  ],\\n  [\\n    \"Price: $59.99\",\\n    \"Owners: 200,000 .. 500,000\",\\n    \"Fallout 4\"\\n  ],\\n  [\\n    \"Price: $9.99\",\\n    \"Owners: 10,000,000 .. 20,000,000\",\\n    \"PAYDAY 2\"\\n  ],\\n  [\\n    \"Price: $19.99\",\\n    \"Owners: 2,000,000 .. 5,000,000\",\\n    \"Grand Theft Auto IV\"\\n  ],\\n  [\\n    \"Price: $4.99\",\\n    \"DOOM (2016)\"\\n  ],\\n  [\\n    \"Price: $19.99\",\\n    \"BioShock\"\\n  ],\\n  [\\n    \"Price: $59.99\",\\n    \"Owners: 2,000,000 .. 5,000,000\",\\n    \"Red Dead Redemption 2\"\\n  ],\\n  [\\n    \"Price: $6.99\",\\n    \"Limbo\"\\n  ],\\n  [\\n    \"Price: $31.96\",\\n    \"Life is Strange\"\\n  ],\\n  [\\n    \"Price: $29.99\",\\n    \"Owners: 2,000,000 .. 5,000,000\",\\n    \"BioShock Infinite\"\\n  ]\\n]'\n",
      " [x] b'[\\n  [\\n    \"Price: $14.99 50%\",\\n    \"Owners: 20,000,000 .. 50,000,000\",\\n    \"Grand Theft Auto V\"\\n  ],\\n  [\\n    \"Price: $11.99 70%\",\\n    \"Owners: 10,000,000 .. 20,000,000\",\\n    \"The Witcher 3: Wild Hunt\"\\n  ],\\n  [\\n    \"Price: $4.99\",\\n    \"Tomb Raider (2013)\"\\n  ],\\n  [\\n    \"Price: $59.99\",\\n    \"Owners: 200,000 .. 500,000\",\\n    \"The Elder Scrolls V: Skyrim\"\\n  ],\\n  [\\n    \"Price: $1.99 80%\",\\n    \"Owners: 20,000,000 .. 50,000,000\",\\n    \"Left 4 Dead 2\"\\n  ],\\n  [\\n    \"Price: $49.99\",\\n    \"Borderlands 2\"\\n  ],\\n  [\\n    \"Price: $59.99\",\\n    \"Owners: 200,000 .. 500,000\",\\n    \"Fallout 4\"\\n  ],\\n  [\\n    \"Price: $9.99\",\\n    \"Owners: 10,000,000 .. 20,000,000\",\\n    \"PAYDAY 2\"\\n  ],\\n  [\\n    \"Price: $19.99\",\\n    \"Owners: 2,000,000 .. 5,000,000\",\\n    \"Grand Theft Auto IV\"\\n  ],\\n  [\\n    \"Price: $4.99\",\\n    \"DOOM (2016)\"\\n  ],\\n  [\\n    \"Price: $19.99\",\\n    \"BioShock\"\\n  ],\\n  [\\n    \"Price: $59.99\",\\n    \"Owners: 2,000,000 .. 5,000,000\",\\n    \"Red Dead Redemption 2\"\\n  ],\\n  [\\n    \"Price: $6.99\",\\n    \"Limbo\"\\n  ],\\n  [\\n    \"Price: $31.96\",\\n    \"Life is Strange\"\\n  ],\\n  [\\n    \"Price: $29.99\",\\n    \"Owners: 2,000,000 .. 5,000,000\",\\n    \"BioShock Infinite\"\\n  ]\\n]'\n",
      " [x] b'[\\n  [\\n    \"Price: $14.99 50%\",\\n    \"Owners: 20,000,000 .. 50,000,000\",\\n    \"Grand Theft Auto V\"\\n  ],\\n  [\\n    \"Price: $11.99 70%\",\\n    \"Owners: 10,000,000 .. 20,000,000\",\\n    \"The Witcher 3: Wild Hunt\"\\n  ],\\n  [\\n    \"Price: $4.99\",\\n    \"Tomb Raider (2013)\"\\n  ],\\n  [\\n    \"Price: $59.99\",\\n    \"Owners: 200,000 .. 500,000\",\\n    \"The Elder Scrolls V: Skyrim\"\\n  ],\\n  [\\n    \"Price: $1.99 80%\",\\n    \"Owners: 20,000,000 .. 50,000,000\",\\n    \"Left 4 Dead 2\"\\n  ],\\n  [\\n    \"Price: $49.99\",\\n    \"Borderlands 2\"\\n  ],\\n  [\\n    \"Price: $59.99\",\\n    \"Owners: 200,000 .. 500,000\",\\n    \"Fallout 4\"\\n  ],\\n  [\\n    \"Price: $9.99\",\\n    \"Owners: 10,000,000 .. 20,000,000\",\\n    \"PAYDAY 2\"\\n  ],\\n  [\\n    \"Price: $19.99\",\\n    \"Owners: 2,000,000 .. 5,000,000\",\\n    \"Grand Theft Auto IV\"\\n  ],\\n  [\\n    \"Price: $4.99\",\\n    \"DOOM (2016)\"\\n  ],\\n  [\\n    \"Price: $19.99\",\\n    \"BioShock\"\\n  ],\\n  [\\n    \"Price: $59.99\",\\n    \"Owners: 2,000,000 .. 5,000,000\",\\n    \"Red Dead Redemption 2\"\\n  ],\\n  [\\n    \"Price: $6.99\",\\n    \"Limbo\"\\n  ],\\n  [\\n    \"Price: $31.96\",\\n    \"Life is Strange\"\\n  ],\\n  [\\n    \"Price: $29.99\",\\n    \"Owners: 2,000,000 .. 5,000,000\",\\n    \"BioShock Infinite\"\\n  ]\\n]'\n",
      " [x] b'[\\n  [\\n    \"Price: $14.99 50%\",\\n    \"Owners: 20,000,000 .. 50,000,000\",\\n    \"Grand Theft Auto V\"\\n  ],\\n  [\\n    \"Price: $11.99 70%\",\\n    \"Owners: 10,000,000 .. 20,000,000\",\\n    \"The Witcher 3: Wild Hunt\"\\n  ],\\n  [\\n    \"Price: $4.99\",\\n    \"Tomb Raider (2013)\"\\n  ],\\n  [\\n    \"Price: $59.99\",\\n    \"Owners: 200,000 .. 500,000\",\\n    \"The Elder Scrolls V: Skyrim\"\\n  ],\\n  [\\n    \"Price: $1.99 80%\",\\n    \"Owners: 20,000,000 .. 50,000,000\",\\n    \"Left 4 Dead 2\"\\n  ],\\n  [\\n    \"Price: $49.99\",\\n    \"Borderlands 2\"\\n  ],\\n  [\\n    \"Price: $59.99\",\\n    \"Owners: 200,000 .. 500,000\",\\n    \"Fallout 4\"\\n  ],\\n  [\\n    \"Price: $9.99\",\\n    \"Owners: 10,000,000 .. 20,000,000\",\\n    \"PAYDAY 2\"\\n  ],\\n  [\\n    \"Price: $19.99\",\\n    \"Owners: 2,000,000 .. 5,000,000\",\\n    \"Grand Theft Auto IV\"\\n  ],\\n  [\\n    \"Price: $4.99\",\\n    \"DOOM (2016)\"\\n  ],\\n  [\\n    \"Price: $19.99\",\\n    \"BioShock\"\\n  ],\\n  [\\n    \"Price: $59.99\",\\n    \"Owners: 2,000,000 .. 5,000,000\",\\n    \"Red Dead Redemption 2\"\\n  ],\\n  [\\n    \"Price: $6.99\",\\n    \"Limbo\"\\n  ],\\n  [\\n    \"Price: $31.96\",\\n    \"Life is Strange\"\\n  ],\\n  [\\n    \"Price: $29.99\",\\n    \"Owners: 2,000,000 .. 5,000,000\",\\n    \"BioShock Infinite\"\\n  ]\\n]'\n"
     ]
    }
   ],
   "source": [
    "import pika\n",
    "\n",
    "connection = pika.BlockingConnection(\n",
    "    pika.ConnectionParameters(host='localhost'))\n",
    "channel = connection.channel()\n",
    "\n",
    "channel.exchange_declare(exchange='webscrapeData', exchange_type='fanout')\n",
    "\n",
    "result = channel.queue_declare(queue='', exclusive=True)\n",
    "queue_name = result.method.queue\n",
    "\n",
    "channel.queue_bind(exchange='webscrapeData', queue=queue_name)\n",
    "\n",
    "print(' [*] Waiting for logs. To exit press CTRL+C')\n",
    "\n",
    "def callback(ch, method, properties, body):\n",
    "    print(\" [x] %r\" % body)\n",
    "\n",
    "channel.basic_consume(\n",
    "    queue=queue_name, on_message_callback=callback, auto_ack=True)\n",
    "\n",
    "channel.start_consuming()"
   ]
  }
 ],
 "metadata": {
  "kernelspec": {
   "display_name": "Python 3",
   "language": "python",
   "name": "python3"
  }
 },
 "nbformat": 4,
 "nbformat_minor": 4
}
